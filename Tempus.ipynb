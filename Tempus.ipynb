{
  "cells": [
    {
      "cell_type": "markdown",
      "metadata": {
        "id": "view-in-github",
        "colab_type": "text"
      },
      "source": [
        "<a href=\"https://colab.research.google.com/github/SinaQP/Tempus/blob/master/Tempus.ipynb\" target=\"_parent\"><img src=\"https://colab.research.google.com/assets/colab-badge.svg\" alt=\"Open In Colab\"/></a>"
      ]
    },
    {
      "cell_type": "code",
      "execution_count": null,
      "metadata": {
        "collapsed": true,
        "id": "5JIxzGIZ9yz3",
        "outputId": "ffac68b6-af49-4315-e84b-05365351964b",
        "colab": {
          "base_uri": "https://localhost:8080/"
        }
      },
      "outputs": [
        {
          "output_type": "stream",
          "name": "stdout",
          "text": [
            "\u001b[31mERROR: Operation cancelled by user\u001b[0m\u001b[31m\n",
            "\u001b[0m"
          ]
        }
      ],
      "source": [
        "%pip install langchain langchain-community langchain-openai jdatetime --upgrade --quiet"
      ]
    },
    {
      "cell_type": "code",
      "execution_count": null,
      "metadata": {
        "colab": {
          "base_uri": "https://localhost:8080/"
        },
        "collapsed": true,
        "id": "5kzEsE82LDMF",
        "outputId": "28c2d5a2-b260-480a-f2f8-f2c711cdd3f1"
      },
      "outputs": [
        {
          "name": "stdout",
          "output_type": "stream",
          "text": [
            "Requirement already satisfied: jdatetime in /usr/local/lib/python3.11/dist-packages (5.2.0)\n",
            "Requirement already satisfied: jalali-core>=1.0 in /usr/local/lib/python3.11/dist-packages (from jdatetime) (1.0.0)\n",
            "Traceback (most recent call last):\n",
            "  File \"/usr/local/lib/python3.11/dist-packages/pip/_internal/cli/base_command.py\", line 179, in exc_logging_wrapper\n",
            "    status = run_func(*args)\n",
            "             ^^^^^^^^^^^^^^^\n",
            "  File \"/usr/local/lib/python3.11/dist-packages/pip/_internal/cli/req_command.py\", line 67, in wrapper\n",
            "    return func(self, options, args)\n",
            "           ^^^^^^^^^^^^^^^^^^^^^^^^^\n",
            "  File \"/usr/local/lib/python3.11/dist-packages/pip/_internal/commands/install.py\", line 447, in run\n",
            "    conflicts = self._determine_conflicts(to_install)\n",
            "                ^^^^^^^^^^^^^^^^^^^^^^^^^^^^^^^^^^^^^\n",
            "  File \"/usr/local/lib/python3.11/dist-packages/pip/_internal/commands/install.py\", line 578, in _determine_conflicts\n",
            "    return check_install_conflicts(to_install)\n",
            "           ^^^^^^^^^^^^^^^^^^^^^^^^^^^^^^^^^^^\n",
            "  File \"/usr/local/lib/python3.11/dist-packages/pip/_internal/operations/check.py\", line 101, in check_install_conflicts\n",
            "    package_set, _ = create_package_set_from_installed()\n",
            "                     ^^^^^^^^^^^^^^^^^^^^^^^^^^^^^^^^^^^\n",
            "  File \"/usr/local/lib/python3.11/dist-packages/pip/_internal/operations/check.py\", line 42, in create_package_set_from_installed\n",
            "    dependencies = list(dist.iter_dependencies())\n",
            "                   ^^^^^^^^^^^^^^^^^^^^^^^^^^^^^^\n",
            "  File \"/usr/local/lib/python3.11/dist-packages/pip/_internal/metadata/importlib/_dists.py\", line 219, in iter_dependencies\n",
            "    for req_string in self.metadata.get_all(\"Requires-Dist\", []):\n",
            "                      ^^^^^^^^^^^^^\n",
            "  File \"/usr/lib/python3.11/functools.py\", line 1001, in __get__\n",
            "    val = self.func(instance)\n",
            "          ^^^^^^^^^^^^^^^^^^^\n",
            "  File \"/usr/local/lib/python3.11/dist-packages/pip/_internal/metadata/base.py\", line 394, in metadata\n",
            "    metadata = self._metadata_impl()\n",
            "               ^^^^^^^^^^^^^^^^^^^^^\n",
            "  File \"/usr/local/lib/python3.11/dist-packages/pip/_internal/metadata/importlib/_dists.py\", line 209, in _metadata_impl\n",
            "    return cast(email.message.Message, self._dist.metadata)\n",
            "                                       ^^^^^^^^^^^^^^^^^^^\n",
            "  File \"/usr/lib/python3.11/importlib/metadata/__init__.py\", line 617, in metadata\n",
            "    return _adapters.Message(email.message_from_string(text))\n",
            "                             ^^^^^^^^^^^^^^^^^^^^^^^^^^^^^^^\n",
            "  File \"/usr/lib/python3.11/email/__init__.py\", line 37, in message_from_string\n",
            "    return Parser(*args, **kws).parsestr(s)\n",
            "           ^^^^^^^^^^^^^^^^^^^^^^^^^^^^^^^^\n",
            "  File \"/usr/lib/python3.11/email/parser.py\", line 67, in parsestr\n",
            "    return self.parse(StringIO(text), headersonly=headersonly)\n",
            "           ^^^^^^^^^^^^^^^^^^^^^^^^^^^^^^^^^^^^^^^^^^^^^^^^^^^\n",
            "  File \"/usr/lib/python3.11/email/parser.py\", line 53, in parse\n",
            "    data = fp.read(8192)\n",
            "           ^^^^^^^^^^^^^\n",
            "KeyboardInterrupt\n",
            "\n",
            "During handling of the above exception, another exception occurred:\n",
            "\n",
            "Traceback (most recent call last):\n",
            "  File \"/usr/lib/python3.11/logging/__init__.py\", line 1742, in isEnabledFor\n",
            "    return self._cache[level]\n",
            "           ~~~~~~~~~~~^^^^^^^\n",
            "KeyError: 50\n",
            "\n",
            "During handling of the above exception, another exception occurred:\n",
            "\n",
            "Traceback (most recent call last):\n",
            "  File \"/usr/local/bin/pip3\", line 8, in <module>\n",
            "    sys.exit(main())\n",
            "             ^^^^^^\n",
            "  File \"/usr/local/lib/python3.11/dist-packages/pip/_internal/cli/main.py\", line 80, in main\n",
            "    return command.main(cmd_args)\n",
            "           ^^^^^^^^^^^^^^^^^^^^^^\n",
            "  File \"/usr/local/lib/python3.11/dist-packages/pip/_internal/cli/base_command.py\", line 100, in main\n",
            "    return self._main(args)\n",
            "           ^^^^^^^^^^^^^^^^\n",
            "  File \"/usr/local/lib/python3.11/dist-packages/pip/_internal/cli/base_command.py\", line 232, in _main\n",
            "    return run(options, args)\n",
            "           ^^^^^^^^^^^^^^^^^^\n",
            "  File \"/usr/local/lib/python3.11/dist-packages/pip/_internal/cli/base_command.py\", line 215, in exc_logging_wrapper\n",
            "    logger.critical(\"Operation cancelled by user\")\n",
            "  File \"/usr/lib/python3.11/logging/__init__.py\", line 1535, in critical\n",
            "    if self.isEnabledFor(CRITICAL):\n",
            "       ^^^^^^^^^^^^^^^^^^^^^^^^^^^\n",
            "  File \"/usr/lib/python3.11/logging/__init__.py\", line 1750, in isEnabledFor\n",
            "    level >= self.getEffectiveLevel()\n",
            "             ^^^^^^^^^^^^^^^^^^^^^^^^\n",
            "  File \"/usr/lib/python3.11/logging/__init__.py\", line 1720, in getEffectiveLevel\n",
            "    def getEffectiveLevel(self):\n",
            "\n",
            "KeyboardInterrupt\n",
            "^C\n"
          ]
        }
      ],
      "source": [
        "%pip install jdatetime"
      ]
    },
    {
      "cell_type": "code",
      "execution_count": null,
      "metadata": {
        "id": "41IdrbFN-Ns1"
      },
      "outputs": [],
      "source": [
        "from langchain.chat_models import ChatOpenAI\n",
        "\n",
        "AVALAI_API_KEY=\"\"\n",
        "AVALAI_BASE_URL=\"https://api.avalai.ir/v1\"\n",
        "chat = ChatOpenAI(model=\"gpt-4o-mini\", openai_api_key=AVALAI_API_KEY, base_url=AVALAI_BASE_URL, temperature=0.2)"
      ]
    },
    {
      "cell_type": "markdown",
      "metadata": {
        "id": "r244fJFNACie"
      },
      "source": []
    },
    {
      "cell_type": "code",
      "execution_count": null,
      "metadata": {
        "colab": {
          "base_uri": "https://localhost:8080/",
          "height": 36
        },
        "id": "4b0mezeh-aC3",
        "outputId": "907f7390-e8ab-4a67-b469-b18b19e4cc12"
      },
      "outputs": [
        {
          "data": {
            "application/vnd.google.colaboratory.intrinsic+json": {
              "type": "string"
            },
            "text/plain": [
              "'Hello! How can I assist you today?'"
            ]
          },
          "execution_count": 57,
          "metadata": {},
          "output_type": "execute_result"
        }
      ],
      "source": [
        "result = chat.invoke(\"Hello\").content\n",
        "result"
      ]
    },
    {
      "cell_type": "code",
      "execution_count": null,
      "metadata": {
        "id": "PUhhwfRlJcda"
      },
      "outputs": [],
      "source": [
        "from pydantic import BaseModel, Field\n",
        "from typing import List, Optional\n",
        "from datetime import date\n",
        "\n",
        "# Define the model for a single activity\n",
        "class Activity(BaseModel):\n",
        "    date: str = Field(..., description=\"تاریخ فعالیت به صورت YYYY/MM/DD (جلالی)\")\n",
        "    start_time: str = Field(default=\"08:00\", description=\"ساعت شروع فعالیت\")\n",
        "    end_time: str = Field(default=\"15:00\", description=\"ساعت پایان فعالیت\")\n",
        "    project: Optional[str] = Field(default=None, description=\"نام پروژه\")\n",
        "    activity_subject: str = Field(..., description=\"موضوع فعالیت\")\n",
        "    activity_summary: Optional[str] = Field(default=None, description=\"خلاصه‌ای از فعالیت\")\n",
        "\n",
        "# Define the model for the entire response\n",
        "class ActivitiesResponse(BaseModel):\n",
        "    activities: List[Activity]\n"
      ]
    },
    {
      "cell_type": "code",
      "execution_count": null,
      "metadata": {
        "id": "pCQF5Bai_K7P"
      },
      "outputs": [],
      "source": [
        "from langchain_core.messages import SystemMessage, HumanMessage\n",
        "import jdatetime\n",
        "from langchain_core.output_parsers import PydanticOutputParser\n",
        "\n",
        "current_jalali_datetime = str(jdatetime.datetime.now().date()).replace(\"-\", '/')"
      ]
    },
    {
      "cell_type": "code",
      "execution_count": null,
      "metadata": {
        "id": "lPhbxO_wAGWW"
      },
      "outputs": [],
      "source": [
        "from langchain_core.prompts import ChatPromptTemplate, SystemMessagePromptTemplate\n",
        "parser = PydanticOutputParser(pydantic_object=ActivitiesResponse)\n",
        "\n",
        "template = \"\"\"\n",
        "شما یک دستیار هوشمند هستید که اطلاعات مربوط به فعالیت‌های روزانه را استخراج می‌کنید.\n",
        "اطلاعاتی که باید استخراج شوند:\n",
        "- **date**: تاریخ فعالیت (اگر تاریخ ذکر نشده بود، از تاریخ امروز استفاده کن: {current_jalali_datetime})\n",
        "- **start_time**: ساعت شروع فعالیت (اگر ذکر نشده بود، پیش‌فرض 08:00 است)\n",
        "- **end_time**: ساعت پایان فعالیت (اگر ذکر نشده بود، پیش‌فرض 15:00 است)\n",
        "- **project**: نام پروژه (اگر ذکر نشده بود، `null` برگردان)\n",
        "- **activity_subject**: موضوع فعالیت (مانند جلسه، کدنویسی، پشتیبانی، آموزش)\n",
        "- **activity_summary**: خلاصه‌ای از فعالیت (اگر ذکر نشده بود، یک خلاصه بسیار ساده بر اساس موضوع فعالیت ایجاد کن و یکم بزرگترش کن)\n",
        "\n",
        "پاسخ را به صورت JSON برگردان. به عنوان مثال:\n",
        "```json\n",
        "{{\n",
        "    \"activities\": [\n",
        "        {{\n",
        "            \"date\": \"YYYY/MM/DD\",\n",
        "            \"start_time\": \"08:00\",\n",
        "            \"end_time\": \"11:00\",\n",
        "            \"project\": \"رهتال\",\n",
        "            \"activity_subject\": \"کدنویسی\",\n",
        "            \"activity_summary\": \"اضافه کردن api های مورد نیاز فرانت اند\"\n",
        "        }}\n",
        "    ]\n",
        "}}\n",
        "متن ورودی: \"{query}\"\n",
        "\"\"\"\n",
        "system_message_prompt = SystemMessagePromptTemplate.from_template(template)\n",
        "chat_prompt = ChatPromptTemplate.from_messages([system_message_prompt])\n",
        "query = \"کدنویسی سامانه رهبری دیجیتال از 9 تا 12 در 24 دی\"\n",
        "messages = chat_prompt.invoke({\n",
        "\"query\": query,\n",
        "\"format_instructions\": parser.get_format_instructions(),\n",
        "\"current_jalali_datetime\": current_jalali_datetime\n",
        "})\n",
        "result = chat.invoke(messages)"
      ]
    },
    {
      "cell_type": "code",
      "execution_count": null,
      "metadata": {
        "colab": {
          "base_uri": "https://localhost:8080/"
        },
        "id": "rk5pRXonAnks",
        "outputId": "62ea120f-68f8-4c55-e140-c1b4ce924d3b"
      },
      "outputs": [
        {
          "output_type": "stream",
          "name": "stdout",
          "text": [
            "date='1403/10/24' start_time='09:00' end_time='12:00' project='رهبری دیجیتال' activity_subject='کدنویسی' activity_summary='توسعه و کدنویسی سامانه رهبری دیجیتال'\n",
            "توسعه و کدنویسی سامانه رهبری دیجیتال\n",
            "رهبری دیجیتال\n"
          ]
        }
      ],
      "source": [
        "try:\n",
        "    joke_object = parser.parse(result.content)\n",
        "    print(joke_object.activities[0])\n",
        "    print(joke_object.activities[0].activity_summary)\n",
        "    print(joke_object.activities[0].project)\n",
        "except Exception as e:\n",
        "    print(e)"
      ]
    },
    {
      "cell_type": "code",
      "execution_count": null,
      "metadata": {
        "id": "rpzkLhCONh-4"
      },
      "outputs": [],
      "source": []
    }
  ],
  "metadata": {
    "colab": {
      "provenance": [],
      "authorship_tag": "ABX9TyNka4UFYRfwjIKp/myUiO36",
      "include_colab_link": true
    },
    "kernelspec": {
      "display_name": "Python 3",
      "name": "python3"
    },
    "language_info": {
      "name": "python"
    }
  },
  "nbformat": 4,
  "nbformat_minor": 0
}
